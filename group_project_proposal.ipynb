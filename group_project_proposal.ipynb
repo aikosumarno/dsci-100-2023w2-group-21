{
 "cells": [
  {
   "cell_type": "markdown",
   "id": "771c2b34-a6dd-4e91-a634-d29596a040f9",
   "metadata": {},
   "source": [
    "## Group Project Proposal\n",
    "# An Exploratory Analysis Into Diabetes\n",
    "#### Group 21: Aiko Sumarno, Yoona Wang, Jerry Jin, Daniel Chou"
   ]
  },
  {
   "cell_type": "markdown",
   "id": "05949801-3e35-41b6-853b-464a9b436ca8",
   "metadata": {},
   "source": [
    "## Introduction:"
   ]
  },
  {
   "cell_type": "markdown",
   "id": "46df7a4e-a882-4a93-a1f2-2fa9207a93be",
   "metadata": {},
   "source": [
    "Millions of people worldwide suffer from diabetes, a common and possibly fatal illness. In order to manage and avoid its consequences, early identification and management are somehow essential. With the use of their medical history and demographic data, we want to build machine learning models in this research that will predict a patient's risk of developing diabetes.\n",
    "\n",
    "\n",
    "We use this dataset that includes patient personal and medical data, including age, gender, blood glucose level, body mass index (BMI), smoking history, hypertension, heart disease, and HbA1c level. The diabetes status of each patient is also identified, classified as either positive or negative.\n",
    "\n",
    "\n",
    "We may create prediction models that use these traits to determine a person's probability of acquiring diabetes by using this information. When it comes to helping healthcare professionals identify high-risk patients and carry out early treatments or preventative measures, this information may be quite helpful.\n"
   ]
  },
  {
   "cell_type": "markdown",
   "id": "85a2f5b8-7606-42e2-93a2-409c63b1687c",
   "metadata": {},
   "source": [
    "### Preliminary Exploratory Data Analysis:"
   ]
  },
  {
   "cell_type": "code",
   "execution_count": 1,
   "id": "6fdaea49-04b3-46a5-8568-b2b1ca1eef05",
   "metadata": {},
   "outputs": [
    {
     "name": "stderr",
     "output_type": "stream",
     "text": [
      "── \u001b[1mAttaching core tidyverse packages\u001b[22m ──────────────────────── tidyverse 2.0.0 ──\n",
      "\u001b[32m✔\u001b[39m \u001b[34mdplyr    \u001b[39m 1.1.3     \u001b[32m✔\u001b[39m \u001b[34mreadr    \u001b[39m 2.1.4\n",
      "\u001b[32m✔\u001b[39m \u001b[34mforcats  \u001b[39m 1.0.0     \u001b[32m✔\u001b[39m \u001b[34mstringr  \u001b[39m 1.5.0\n",
      "\u001b[32m✔\u001b[39m \u001b[34mggplot2  \u001b[39m 3.4.4     \u001b[32m✔\u001b[39m \u001b[34mtibble   \u001b[39m 3.2.1\n",
      "\u001b[32m✔\u001b[39m \u001b[34mlubridate\u001b[39m 1.9.3     \u001b[32m✔\u001b[39m \u001b[34mtidyr    \u001b[39m 1.3.0\n",
      "\u001b[32m✔\u001b[39m \u001b[34mpurrr    \u001b[39m 1.0.2     \n",
      "── \u001b[1mConflicts\u001b[22m ────────────────────────────────────────── tidyverse_conflicts() ──\n",
      "\u001b[31m✖\u001b[39m \u001b[34mdplyr\u001b[39m::\u001b[32mfilter()\u001b[39m masks \u001b[34mstats\u001b[39m::filter()\n",
      "\u001b[31m✖\u001b[39m \u001b[34mdplyr\u001b[39m::\u001b[32mlag()\u001b[39m    masks \u001b[34mstats\u001b[39m::lag()\n",
      "\u001b[36mℹ\u001b[39m Use the conflicted package (\u001b[3m\u001b[34m<http://conflicted.r-lib.org/>\u001b[39m\u001b[23m) to force all conflicts to become errors\n",
      "── \u001b[1mAttaching packages\u001b[22m ────────────────────────────────────── tidymodels 1.1.1 ──\n",
      "\n",
      "\u001b[32m✔\u001b[39m \u001b[34mbroom       \u001b[39m 1.0.5     \u001b[32m✔\u001b[39m \u001b[34mrsample     \u001b[39m 1.2.0\n",
      "\u001b[32m✔\u001b[39m \u001b[34mdials       \u001b[39m 1.2.0     \u001b[32m✔\u001b[39m \u001b[34mtune        \u001b[39m 1.1.2\n",
      "\u001b[32m✔\u001b[39m \u001b[34minfer       \u001b[39m 1.0.5     \u001b[32m✔\u001b[39m \u001b[34mworkflows   \u001b[39m 1.1.3\n",
      "\u001b[32m✔\u001b[39m \u001b[34mmodeldata   \u001b[39m 1.2.0     \u001b[32m✔\u001b[39m \u001b[34mworkflowsets\u001b[39m 1.0.1\n",
      "\u001b[32m✔\u001b[39m \u001b[34mparsnip     \u001b[39m 1.1.1     \u001b[32m✔\u001b[39m \u001b[34myardstick   \u001b[39m 1.2.0\n",
      "\u001b[32m✔\u001b[39m \u001b[34mrecipes     \u001b[39m 1.0.8     \n",
      "\n",
      "── \u001b[1mConflicts\u001b[22m ───────────────────────────────────────── tidymodels_conflicts() ──\n",
      "\u001b[31m✖\u001b[39m \u001b[34mscales\u001b[39m::\u001b[32mdiscard()\u001b[39m masks \u001b[34mpurrr\u001b[39m::discard()\n",
      "\u001b[31m✖\u001b[39m \u001b[34mdplyr\u001b[39m::\u001b[32mfilter()\u001b[39m   masks \u001b[34mstats\u001b[39m::filter()\n",
      "\u001b[31m✖\u001b[39m \u001b[34mrecipes\u001b[39m::\u001b[32mfixed()\u001b[39m  masks \u001b[34mstringr\u001b[39m::fixed()\n",
      "\u001b[31m✖\u001b[39m \u001b[34mdplyr\u001b[39m::\u001b[32mlag()\u001b[39m      masks \u001b[34mstats\u001b[39m::lag()\n",
      "\u001b[31m✖\u001b[39m \u001b[34myardstick\u001b[39m::\u001b[32mspec()\u001b[39m masks \u001b[34mreadr\u001b[39m::spec()\n",
      "\u001b[31m✖\u001b[39m \u001b[34mrecipes\u001b[39m::\u001b[32mstep()\u001b[39m   masks \u001b[34mstats\u001b[39m::step()\n",
      "\u001b[34m•\u001b[39m Dig deeper into tidy modeling with R at \u001b[32mhttps://www.tmwr.org\u001b[39m\n",
      "\n"
     ]
    }
   ],
   "source": [
    "library(repr)\n",
    "library(tidyverse)\n",
    "library(tidymodels)\n",
    "library(ggplot2)\n",
    "options(repr.matrix.max.rows = 10)"
   ]
  },
  {
   "cell_type": "code",
   "execution_count": 2,
   "id": "c74f9f4e-60d1-44df-8d98-1bffa51be084",
   "metadata": {},
   "outputs": [],
   "source": [
    "set.seed(123)"
   ]
  },
  {
   "cell_type": "markdown",
   "id": "fbf9924b-f66d-4f91-ae48-5a19e584fb9e",
   "metadata": {},
   "source": [
    "### 1. Read and Tidy Data\n",
    "\n",
    "The data we have used was taken from [Kaggle](https://www.kaggle.com/datasets/iammustafatz/diabetes-prediction-dataset) and it is a dataset of medical and demographic data of people who may or may not have diabetes. The primary source of this dataset are Electronic Health records by healthcare providers. The dataset contains the following variables: \n",
    "\n",
    "* gender = Male or Female\n",
    "* age = How old is the person?\n",
    "* hypertension = Does the person have hypertension? (1 - yes, 0 - no)\n",
    "* heart_disease = Does the person have heart disease? (1 - yes, 0 - no)\n",
    "* smoking_istory = Is the person a smoker? (never, no info, current, former, ever, never, and not current)\n",
    "* bmi = body mass index\n",
    "* HbA1c_level = Hemoglobin A1C, average blood sugar level  over the past two to three months\n",
    "* blood_glucose_level = amount of glucose in the person's blood\n",
    "* diabetes = Does the person have diabetes or not? (1 - yes, 0 - no)\n",
    "\n",
    "For our analysis, we have decided to use the person's **age**, **bmi**, **HbA1c_level**, **blood_glucose_level** and **diabetes** variables only. "
   ]
  },
  {
   "cell_type": "code",
   "execution_count": 7,
   "id": "30bb0f68-6303-4878-b0a5-191dade2915d",
   "metadata": {},
   "outputs": [
    {
     "name": "stderr",
     "output_type": "stream",
     "text": [
      "\u001b[1mRows: \u001b[22m\u001b[34m100000\u001b[39m \u001b[1mColumns: \u001b[22m\u001b[34m9\u001b[39m\n",
      "\u001b[36m──\u001b[39m \u001b[1mColumn specification\u001b[22m \u001b[36m────────────────────────────────────────────────────────\u001b[39m\n",
      "\u001b[1mDelimiter:\u001b[22m \",\"\n",
      "\u001b[31mchr\u001b[39m (2): gender, smoking_history\n",
      "\u001b[32mdbl\u001b[39m (7): age, hypertension, heart_disease, bmi, HbA1c_level, blood_glucose_l...\n",
      "\n",
      "\u001b[36mℹ\u001b[39m Use `spec()` to retrieve the full column specification for this data.\n",
      "\u001b[36mℹ\u001b[39m Specify the column types or set `show_col_types = FALSE` to quiet this message.\n"
     ]
    },
    {
     "data": {
      "text/html": [
       "<table class=\"dataframe\">\n",
       "<caption>A tibble: 6 × 9</caption>\n",
       "<thead>\n",
       "\t<tr><th scope=col>gender</th><th scope=col>age</th><th scope=col>hypertension</th><th scope=col>heart_disease</th><th scope=col>smoking_history</th><th scope=col>bmi</th><th scope=col>HbA1c_level</th><th scope=col>blood_glucose_level</th><th scope=col>diabetes</th></tr>\n",
       "\t<tr><th scope=col>&lt;chr&gt;</th><th scope=col>&lt;dbl&gt;</th><th scope=col>&lt;dbl&gt;</th><th scope=col>&lt;dbl&gt;</th><th scope=col>&lt;chr&gt;</th><th scope=col>&lt;dbl&gt;</th><th scope=col>&lt;dbl&gt;</th><th scope=col>&lt;dbl&gt;</th><th scope=col>&lt;dbl&gt;</th></tr>\n",
       "</thead>\n",
       "<tbody>\n",
       "\t<tr><td>Female</td><td>80</td><td>0</td><td>1</td><td>never  </td><td>25.19</td><td>6.6</td><td>140</td><td>0</td></tr>\n",
       "\t<tr><td>Female</td><td>54</td><td>0</td><td>0</td><td>No Info</td><td>27.32</td><td>6.6</td><td> 80</td><td>0</td></tr>\n",
       "\t<tr><td>Male  </td><td>28</td><td>0</td><td>0</td><td>never  </td><td>27.32</td><td>5.7</td><td>158</td><td>0</td></tr>\n",
       "\t<tr><td>Female</td><td>36</td><td>0</td><td>0</td><td>current</td><td>23.45</td><td>5.0</td><td>155</td><td>0</td></tr>\n",
       "\t<tr><td>Male  </td><td>76</td><td>1</td><td>1</td><td>current</td><td>20.14</td><td>4.8</td><td>155</td><td>0</td></tr>\n",
       "\t<tr><td>Female</td><td>20</td><td>0</td><td>0</td><td>never  </td><td>27.32</td><td>6.6</td><td> 85</td><td>0</td></tr>\n",
       "</tbody>\n",
       "</table>\n"
      ],
      "text/latex": [
       "A tibble: 6 × 9\n",
       "\\begin{tabular}{lllllllll}\n",
       " gender & age & hypertension & heart\\_disease & smoking\\_history & bmi & HbA1c\\_level & blood\\_glucose\\_level & diabetes\\\\\n",
       " <chr> & <dbl> & <dbl> & <dbl> & <chr> & <dbl> & <dbl> & <dbl> & <dbl>\\\\\n",
       "\\hline\n",
       "\t Female & 80 & 0 & 1 & never   & 25.19 & 6.6 & 140 & 0\\\\\n",
       "\t Female & 54 & 0 & 0 & No Info & 27.32 & 6.6 &  80 & 0\\\\\n",
       "\t Male   & 28 & 0 & 0 & never   & 27.32 & 5.7 & 158 & 0\\\\\n",
       "\t Female & 36 & 0 & 0 & current & 23.45 & 5.0 & 155 & 0\\\\\n",
       "\t Male   & 76 & 1 & 1 & current & 20.14 & 4.8 & 155 & 0\\\\\n",
       "\t Female & 20 & 0 & 0 & never   & 27.32 & 6.6 &  85 & 0\\\\\n",
       "\\end{tabular}\n"
      ],
      "text/markdown": [
       "\n",
       "A tibble: 6 × 9\n",
       "\n",
       "| gender &lt;chr&gt; | age &lt;dbl&gt; | hypertension &lt;dbl&gt; | heart_disease &lt;dbl&gt; | smoking_history &lt;chr&gt; | bmi &lt;dbl&gt; | HbA1c_level &lt;dbl&gt; | blood_glucose_level &lt;dbl&gt; | diabetes &lt;dbl&gt; |\n",
       "|---|---|---|---|---|---|---|---|---|\n",
       "| Female | 80 | 0 | 1 | never   | 25.19 | 6.6 | 140 | 0 |\n",
       "| Female | 54 | 0 | 0 | No Info | 27.32 | 6.6 |  80 | 0 |\n",
       "| Male   | 28 | 0 | 0 | never   | 27.32 | 5.7 | 158 | 0 |\n",
       "| Female | 36 | 0 | 0 | current | 23.45 | 5.0 | 155 | 0 |\n",
       "| Male   | 76 | 1 | 1 | current | 20.14 | 4.8 | 155 | 0 |\n",
       "| Female | 20 | 0 | 0 | never   | 27.32 | 6.6 |  85 | 0 |\n",
       "\n"
      ],
      "text/plain": [
       "  gender age hypertension heart_disease smoking_history bmi   HbA1c_level\n",
       "1 Female 80  0            1             never           25.19 6.6        \n",
       "2 Female 54  0            0             No Info         27.32 6.6        \n",
       "3 Male   28  0            0             never           27.32 5.7        \n",
       "4 Female 36  0            0             current         23.45 5.0        \n",
       "5 Male   76  1            1             current         20.14 4.8        \n",
       "6 Female 20  0            0             never           27.32 6.6        \n",
       "  blood_glucose_level diabetes\n",
       "1 140                 0       \n",
       "2  80                 0       \n",
       "3 158                 0       \n",
       "4 155                 0       \n",
       "5 155                 0       \n",
       "6  85                 0       "
      ]
     },
     "metadata": {},
     "output_type": "display_data"
    }
   ],
   "source": [
    "#diabetes <- read_csv(\"data/diabetes.csv\")\n",
    "diabetes <- read_csv(\"https://raw.githubusercontent.com/aikosumarno/dsci-100-2023w2-group-21/main/diabetes.csv\")\n",
    "head(diabetes)"
   ]
  },
  {
   "cell_type": "code",
   "execution_count": null,
   "id": "0f1cf68e-eb07-4aae-9db1-952dd650db54",
   "metadata": {},
   "outputs": [],
   "source": [
    "diabetes <- diabetes |>\n",
    "              mutate(diabetes = as_factor(diabetes)) |>\n",
    "              mutate(diabetes = fct_recode(diabetes, \"diabetic\" = \"1\", \"non-diabetic\" = \"0\")) |> \n",
    "              mutate(hypertension = as_factor(hypertension)) |> \n",
    "              mutate(hypertension = fct_recode(hypertension, \"yes\" = \"1\", \"no\" = \"0\")) |> \n",
    "              mutate(heart_disease = as_factor(heart_disease)) |> \n",
    "              mutate(heart_disease = fct_recode(heart_disease, \"yes\" = \"1\", \"no\" = \"0\"))\n",
    "head(diabetes)"
   ]
  },
  {
   "cell_type": "code",
   "execution_count": null,
   "id": "1e5bf35e-eb9d-40fc-9d77-7a6ee5ca5347",
   "metadata": {},
   "outputs": [],
   "source": [
    "diabetes_tidy <- diabetes |> \n",
    "                    select(-gender, - hypertension, -heart_disease, -smoking_history)\n",
    "head(diabetes_tidy)"
   ]
  },
  {
   "cell_type": "markdown",
   "id": "054aac1e-456b-4f8c-a57e-15425b7724bb",
   "metadata": {},
   "source": [
    "### 2. Summarize Data \n",
    "\n",
    "We decided to split **75%** of the data **for training** and **25% for testing**. \n",
    "\n",
    "To summarize the training data, we counted the number and percentage of patients that were diagnosed with diabetes and the ones that were not. We also calculated the average value of each predictor variables and compared the average values between diabetic and non-diabetic patients. "
   ]
  },
  {
   "cell_type": "code",
   "execution_count": null,
   "id": "8f0e436c-6243-4d34-9019-95d6b2fe6077",
   "metadata": {},
   "outputs": [],
   "source": [
    "diabetes_split <- initial_split(diabetes_tidy, prop = 0.75, strata = diabetes) \n",
    "diabetes_training <- training(diabetes_split)\n",
    "diabetes_testing <- testing(diabetes_split)"
   ]
  },
  {
   "cell_type": "code",
   "execution_count": null,
   "id": "0c3c0ade-118c-4984-a9f7-01c683895a9f",
   "metadata": {},
   "outputs": [],
   "source": [
    "glimpse(diabetes_training)"
   ]
  },
  {
   "cell_type": "code",
   "execution_count": null,
   "id": "f574f2f3-6bfb-4b06-8feb-9742781bdfb4",
   "metadata": {},
   "outputs": [],
   "source": [
    "glimpse(diabetes_testing)"
   ]
  },
  {
   "cell_type": "code",
   "execution_count": null,
   "id": "a5d8c077-0426-4e10-8da3-2c1fa9938942",
   "metadata": {},
   "outputs": [],
   "source": [
    "cat(\"Table 1: Number and Percentage of Patients that Diagnosed with Diabetes\\n\")\n",
    "diabetes_proportions <- diabetes_training |>\n",
    "                          group_by(diabetes) |>\n",
    "                          summarize(count = n()) |>\n",
    "                          mutate(percent = 100*count/nrow(diabetes_training))\n",
    "\n",
    "diabetes_proportions"
   ]
  },
  {
   "cell_type": "code",
   "execution_count": null,
   "id": "8dff3fb3-c991-41bb-8f20-1cf02bad6d4a",
   "metadata": {},
   "outputs": [],
   "source": [
    "cat(\"Table 2: Average Predictor Values\\n\")\n",
    "diabetes_mean <- diabetes_training |>\n",
    "                    select(-diabetes) |>\n",
    "                    map_df(mean) \n",
    "diabetes_mean"
   ]
  },
  {
   "cell_type": "code",
   "execution_count": null,
   "id": "99366f7b-b22e-4fe8-98cc-7a4dde3f7b66",
   "metadata": {},
   "outputs": [],
   "source": [
    "cat(\"Table 3: Average Predictor Values for Diabetic and Non-Diabetic Patients\")\n",
    "comparison <- diabetes_training |>\n",
    "                group_by(diabetes) |>\n",
    "                summarize(avg_age = mean(age),\n",
    "                          avg_bmi = mean(bmi), \n",
    "                          avg_HbA1c_level = mean(HbA1c_level), \n",
    "                          avg_blood_glucose_level = mean(blood_glucose_level))\n",
    "comparison"
   ]
  },
  {
   "cell_type": "markdown",
   "id": "e7fe3118-8d4c-4cd6-88a3-9a601b37f906",
   "metadata": {},
   "source": [
    "### 3. Exploratory Data Visualization\n",
    "\n",
    "Histograms are used to visualize and the distribution of each of the predictor variables between diabetic and non-diabetic patients we plan to use in our analysis. "
   ]
  },
  {
   "cell_type": "code",
   "execution_count": null,
   "id": "da8b04a1-8386-40c7-97c9-87ffc1e981ed",
   "metadata": {},
   "outputs": [],
   "source": [
    "options(repr.plot.width = 8, repr.plot.height = 6)\n",
    "age_plot <- diabetes_training |>\n",
    "                ggplot(aes(x = age, fill = diabetes)) +\n",
    "                geom_histogram(binwidth = 8) +\n",
    "                facet_grid(rows = vars(diabetes)) +\n",
    "                labs(x = \"Age (in years)\", y = \"Number of Patients\", fill = \"Diagnosis\") +\n",
    "                ggtitle(\"Figure 1: Distribution of Age between Diabetic and Non-Diabetic Patients\") +\n",
    "                theme(text = element_text(size = 12))\n",
    "age_plot"
   ]
  },
  {
   "cell_type": "markdown",
   "id": "3c7a153a-4ef9-4913-be7d-3af55684f700",
   "metadata": {},
   "source": [
    "From Figure 1, Non-diabetic patients (upper bars) appear to have a reasonably consistent distribution over the age range, with a slight decrease in the oldest age group. For diabetes patients (lower bars), the numbers begin low for the youngest age groups, rise and peak in the middle age ranges, and then fall for the older age groups."
   ]
  },
  {
   "cell_type": "code",
   "execution_count": null,
   "id": "a16324cb-50bc-45b6-87c2-8ec60eee040c",
   "metadata": {},
   "outputs": [],
   "source": [
    "bmi_plot <- diabetes_training |>\n",
    "                ggplot(aes(x = bmi, fill = diabetes)) +\n",
    "                geom_histogram(binwidth = 8) +\n",
    "                facet_grid(rows = vars(diabetes)) +\n",
    "                labs(x = \"Body Mass Index\", y = \"Number of Patients\", fill = \"Diagnosis\") +\n",
    "                ggtitle(\"Figure 2: Distribution of Body Mass Index between Diabetic and Non-Diabetic Patients\") +\n",
    "                theme(text = element_text(size = 12))\n",
    "bmi_plot"
   ]
  },
  {
   "cell_type": "markdown",
   "id": "ff144267-e4a7-410c-95f7-ec1261f06e46",
   "metadata": {},
   "source": [
    "From Figure 2, for non-diabetic patients, there is a significant peak in the lower BMI range, indicating a larger concentration of non-diabetic persons with this BMI.\n",
    "On the other hand, when an individual has a BMI under 20 kg/m^2, there is very little change to be diabetic.\n",
    "Based on the trend of the graph, the higher the BMI, the bigger chance of being diabetic."
   ]
  },
  {
   "cell_type": "code",
   "execution_count": null,
   "id": "b0f4f0bf-69ce-4f55-bebc-8e5062d5308b",
   "metadata": {},
   "outputs": [],
   "source": [
    "HbA1c_level_plot <- diabetes_training |>\n",
    "                        ggplot(aes(x = HbA1c_level, fill = diabetes)) +\n",
    "                        geom_histogram(binwidth = 8) +\n",
    "                        facet_grid(rows = vars(diabetes)) +\n",
    "                        labs(x = \"Hemoglobin A1C Level\", y = \"Number of Patients\", fill = \"Diagnosis\") +\n",
    "                        ggtitle(\"Figure 3: Distribution of Hemoglobin A1C Level between Diabetic and Non-Diabetic Patients\") +\n",
    "                        theme(text = element_text(size = 12))\n",
    "HbA1c_level_plot"
   ]
  },
  {
   "cell_type": "markdown",
   "id": "85f325f1-ae5c-4ba9-a0d3-16626e6758a4",
   "metadata": {},
   "source": [
    "The x-axis shows hemoglobin A1C levels, which are an essential measure in diabetes care since they indicate average blood glucose levels over the previous three months. According to the graph, only people with ~4% hemoglobin A1C levels or higher are possible to be diabetic. "
   ]
  },
  {
   "cell_type": "code",
   "execution_count": null,
   "id": "837cbaf5-497d-41b5-aa68-fa06004876f7",
   "metadata": {},
   "outputs": [],
   "source": [
    "blood_glucose_level_plot <- diabetes_training |>\n",
    "                            ggplot(aes(x = blood_glucose_level, fill = diabetes)) +\n",
    "                            geom_histogram(binwidth = 8) +\n",
    "                            facet_grid(rows = vars(diabetes)) +\n",
    "                            labs(x = \"Blood Glucose Level\", y = \"Number of Patients\", fill = \"Diagnosis\") +\n",
    "                            ggtitle(\"Figure 4: Distribution of Blood Glucose Level between Diabetic and Non-Diabetic Patients\") +\n",
    "                            theme(text = element_text(size = 12))\n",
    "blood_glucose_level_plot"
   ]
  },
  {
   "cell_type": "markdown",
   "id": "e9e6c9e9-7fe5-4bca-b275-52cd75632e9f",
   "metadata": {},
   "source": [
    "Non-diabetic patients' blood glucose levels are concentrated at the lower end of the scale, which is consistent with medical understanding that non-diabetics often have lower glucose levels.\n",
    "Diabetic patients have a greater distribution of glucose levels with many spikes, implying that they experience a wider range of blood glucose levels, including highly elevated levels."
   ]
  },
  {
   "cell_type": "code",
   "execution_count": null,
   "id": "10fb6895-56a8-47b0-949f-bbb786fa1b22",
   "metadata": {},
   "outputs": [],
   "source": [
    "blood_vs_HbA1c_plot <- diabetes_training |>\n",
    "                            ggplot(aes(x = blood_glucose_level, y = HbA1c_level, color = diabetes)) +\n",
    "                            geom_point() +\n",
    "                            labs(x = \"Blood Glucose Level\", y = \"Hemoglobin A1C Level\", color = \"Diagnosis\") +\n",
    "                            ggtitle(\"Figure 5: Blood Glucose Level vs HbA1c_level\") +\n",
    "                            theme(text = element_text(size = 12))\n",
    "blood_vs_HbA1c_plot"
   ]
  },
  {
   "cell_type": "markdown",
   "id": "a355b836-73ee-4856-b979-1ac379316d31",
   "metadata": {},
   "source": [
    "In Figure 5, we are looking at the relationship between Blood Glucose Level vs HbA1c level. Based on the graph, there's a clear distinct between non-diabetic and diabetic patient. It reflects that there's higher chance of being diabetic if an individual has high blood Glucose Level, or Hemonglobin A1C level, or both. "
   ]
  },
  {
   "cell_type": "markdown",
   "id": "a37e2969-3b74-47d2-8b42-d3f7071b77ac",
   "metadata": {},
   "source": [
    "## Methods:"
   ]
  },
  {
   "cell_type": "markdown",
   "id": "c08fb341-ee38-40af-9af6-1725970e6f01",
   "metadata": {},
   "source": [
    "We will use KNN classification as we are predicting a categorical value (diagnosis) from our predictors. We will create a classifier, tune the classifier and visualize the results. The variables that will be used in the analysis are age, bmi, blood glucose level and HbA1c level and diagnosis of diabetes.\n",
    "From the ggpairs plot above, we can see a relatively strong relationship between the likelihood to suffer from diabetes and the 4 predictors (age, bmi, blood_glucose_level, HbA1c_level). Thus, we will use average age, average bmi, average blood glucose level and average HbA1c level, which will be calculated by averaging the columns, as strong predictors for diagnosis.\n",
    "The results will be visualized in 4 histogram with different variables on the x-axis and the others on the y-axis as well as the points being coloured to identify the diagnosis. We will also make a plot of predicted and true diagnosis values with a best-fit plot through the true values, of ”a variable“ vs ”diagnosis“."
   ]
  },
  {
   "cell_type": "markdown",
   "id": "bd493eed-3b87-444a-b8dc-5127f139976d",
   "metadata": {},
   "source": [
    "## Expected Outcomes and Significance:"
   ]
  },
  {
   "cell_type": "markdown",
   "id": "d057ab7c-775d-4a89-adb7-ecfa210b4032",
   "metadata": {},
   "source": []
  },
  {
   "cell_type": "markdown",
   "id": "86700e8e-21c1-4427-85e0-25fea13349e8",
   "metadata": {},
   "source": [
    "## Reference List: \n",
    "* Mustafa, M. (2023). Diabetes prediction dataset. Kaggle.com. https://www.kaggle.com/datasets/iammustafatz/diabetes-prediction-dataset\n"
   ]
  },
  {
   "cell_type": "code",
   "execution_count": null,
   "id": "48dbcfa4-d11f-4480-baac-a14785452bdf",
   "metadata": {},
   "outputs": [],
   "source": []
  }
 ],
 "metadata": {
  "kernelspec": {
   "display_name": "R",
   "language": "R",
   "name": "ir"
  },
  "language_info": {
   "codemirror_mode": "r",
   "file_extension": ".r",
   "mimetype": "text/x-r-source",
   "name": "R",
   "pygments_lexer": "r",
   "version": "4.3.1"
  }
 },
 "nbformat": 4,
 "nbformat_minor": 5
}
