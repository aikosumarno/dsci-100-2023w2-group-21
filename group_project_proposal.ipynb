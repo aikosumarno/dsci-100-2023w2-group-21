{
 "cells": [
  {
   "cell_type": "code",
   "execution_count": 2,
   "id": "72ae540e-cc6b-4852-97dd-75d29709b09f",
   "metadata": {},
   "outputs": [
    {
     "ename": "ERROR",
     "evalue": "Error in parse(text = x, srcfile = src): <text>:3:13: unexpected symbol\n2: Introduction:\n3: Preliminary exploratory\n               ^\n",
     "output_type": "error",
     "traceback": [
      "Error in parse(text = x, srcfile = src): <text>:3:13: unexpected symbol\n2: Introduction:\n3: Preliminary exploratory\n               ^\nTraceback:\n"
     ]
    }
   ],
   "source": [
    "Title\n",
    "Introduction:\n",
    "Preliminary exploratory data analysis:\n",
    "\n",
    "Methods:\n",
    "\n",
    "Expected outcomes and significance:\n"
   ]
  },
  {
   "cell_type": "code",
   "execution_count": null,
   "id": "565779e5-0e42-4589-9a5d-208fc640e5d2",
   "metadata": {},
   "outputs": [],
   "source": []
  }
 ],
 "metadata": {
  "kernelspec": {
   "display_name": "R",
   "language": "R",
   "name": "ir"
  },
  "language_info": {
   "codemirror_mode": "r",
   "file_extension": ".r",
   "mimetype": "text/x-r-source",
   "name": "R",
   "pygments_lexer": "r",
   "version": "4.3.1"
  }
 },
 "nbformat": 4,
 "nbformat_minor": 5
}
