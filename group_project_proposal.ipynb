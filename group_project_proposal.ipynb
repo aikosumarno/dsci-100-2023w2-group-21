{
 "cells": [
  {
   "cell_type": "code",
   "execution_count": 2,
   "id": "72ae540e-cc6b-4852-97dd-75d29709b09f",
   "metadata": {},
   "outputs": [
    {
     "ename": "ERROR",
     "evalue": "Error in parse(text = x, srcfile = src): <text>:3:13: unexpected symbol\n2: Introduction:\n3: Preliminary exploratory\n               ^\n",
     "output_type": "error",
     "traceback": [
      "Error in parse(text = x, srcfile = src): <text>:3:13: unexpected symbol\n2: Introduction:\n3: Preliminary exploratory\n               ^\nTraceback:\n"
     ]
    }
   ],
   "source": [
    "Title\n",
    "Introduction:\n",
    "Preliminary exploratory data analysis:\n",
    "\n",
    "Methods:\n",
    "\n",
    "Expected outcomes and significance:\n"
   ]
  },
  {
   "cell_type": "code",
   "execution_count": 2,
   "id": "6fdaea49-04b3-46a5-8568-b2b1ca1eef05",
   "metadata": {},
   "outputs": [
    {
     "name": "stderr",
     "output_type": "stream",
     "text": [
      "── \u001b[1mAttaching core tidyverse packages\u001b[22m ──────────────────────── tidyverse 2.0.0 ──\n",
      "\u001b[32m✔\u001b[39m \u001b[34mdplyr    \u001b[39m 1.1.3     \u001b[32m✔\u001b[39m \u001b[34mreadr    \u001b[39m 2.1.4\n",
      "\u001b[32m✔\u001b[39m \u001b[34mforcats  \u001b[39m 1.0.0     \u001b[32m✔\u001b[39m \u001b[34mstringr  \u001b[39m 1.5.0\n",
      "\u001b[32m✔\u001b[39m \u001b[34mggplot2  \u001b[39m 3.4.4     \u001b[32m✔\u001b[39m \u001b[34mtibble   \u001b[39m 3.2.1\n",
      "\u001b[32m✔\u001b[39m \u001b[34mlubridate\u001b[39m 1.9.3     \u001b[32m✔\u001b[39m \u001b[34mtidyr    \u001b[39m 1.3.0\n",
      "\u001b[32m✔\u001b[39m \u001b[34mpurrr    \u001b[39m 1.0.2     \n",
      "── \u001b[1mConflicts\u001b[22m ────────────────────────────────────────── tidyverse_conflicts() ──\n",
      "\u001b[31m✖\u001b[39m \u001b[34mdplyr\u001b[39m::\u001b[32mfilter()\u001b[39m masks \u001b[34mstats\u001b[39m::filter()\n",
      "\u001b[31m✖\u001b[39m \u001b[34mdplyr\u001b[39m::\u001b[32mlag()\u001b[39m    masks \u001b[34mstats\u001b[39m::lag()\n",
      "\u001b[36mℹ\u001b[39m Use the conflicted package (\u001b[3m\u001b[34m<http://conflicted.r-lib.org/>\u001b[39m\u001b[23m) to force all conflicts to become errors\n"
     ]
    }
   ],
   "source": [
    "library(tidyverse)"
   ]
  },
  {
   "cell_type": "code",
   "execution_count": 3,
   "id": "565779e5-0e42-4589-9a5d-208fc640e5d2",
   "metadata": {},
   "outputs": [
    {
     "name": "stderr",
     "output_type": "stream",
     "text": [
      "\u001b[1mRows: \u001b[22m\u001b[34m4801\u001b[39m \u001b[1mColumns: \u001b[22m\u001b[34m17\u001b[39m\n",
      "\u001b[36m──\u001b[39m \u001b[1mColumn specification\u001b[22m \u001b[36m────────────────────────────────────────────────────────\u001b[39m\n",
      "\u001b[1mDelimiter:\u001b[22m \",\"\n",
      "\u001b[31mchr\u001b[39m (11): BROKERTITLE, TYPE, ADDRESS, STATE, MAIN_ADDRESS, ADMINISTRATIVE_AR...\n",
      "\u001b[32mdbl\u001b[39m  (6): PRICE, BEDS, BATH, PROPERTYSQFT, LATITUDE, LONGITUDE\n",
      "\n",
      "\u001b[36mℹ\u001b[39m Use `spec()` to retrieve the full column specification for this data.\n",
      "\u001b[36mℹ\u001b[39m Specify the column types or set `show_col_types = FALSE` to quiet this message.\n"
     ]
    },
    {
     "data": {
      "text/html": [
       "<table class=\"dataframe\">\n",
       "<caption>A tibble: 6 × 17</caption>\n",
       "<thead>\n",
       "\t<tr><th scope=col>BROKERTITLE</th><th scope=col>TYPE</th><th scope=col>PRICE</th><th scope=col>BEDS</th><th scope=col>BATH</th><th scope=col>PROPERTYSQFT</th><th scope=col>ADDRESS</th><th scope=col>STATE</th><th scope=col>MAIN_ADDRESS</th><th scope=col>ADMINISTRATIVE_AREA_LEVEL_2</th><th scope=col>LOCALITY</th><th scope=col>SUBLOCALITY</th><th scope=col>STREET_NAME</th><th scope=col>LONG_NAME</th><th scope=col>FORMATTED_ADDRESS</th><th scope=col>LATITUDE</th><th scope=col>LONGITUDE</th></tr>\n",
       "\t<tr><th scope=col>&lt;chr&gt;</th><th scope=col>&lt;chr&gt;</th><th scope=col>&lt;dbl&gt;</th><th scope=col>&lt;dbl&gt;</th><th scope=col>&lt;dbl&gt;</th><th scope=col>&lt;dbl&gt;</th><th scope=col>&lt;chr&gt;</th><th scope=col>&lt;chr&gt;</th><th scope=col>&lt;chr&gt;</th><th scope=col>&lt;chr&gt;</th><th scope=col>&lt;chr&gt;</th><th scope=col>&lt;chr&gt;</th><th scope=col>&lt;chr&gt;</th><th scope=col>&lt;chr&gt;</th><th scope=col>&lt;chr&gt;</th><th scope=col>&lt;dbl&gt;</th><th scope=col>&lt;dbl&gt;</th></tr>\n",
       "</thead>\n",
       "<tbody>\n",
       "\t<tr><td>Brokered by Douglas Elliman  -111 Fifth Ave                               </td><td>Condo for sale    </td><td>3.15e+05</td><td>2</td><td> 2.000000</td><td> 1400</td><td>2 E 55th St Unit 803                                              </td><td>New York, NY 10022     </td><td>2 E 55th St Unit 803New York, NY 10022                                              </td><td>New York County</td><td>New York</td><td>Manhattan      </td><td>East 55th Street</td><td>Regis Residence </td><td>Regis Residence, 2 E 55th St #803, New York, NY 10022, USA</td><td>40.76125</td><td>-73.97448</td></tr>\n",
       "\t<tr><td>Brokered by Serhant                                                       </td><td>Condo for sale    </td><td>1.95e+08</td><td>7</td><td>10.000000</td><td>17545</td><td>Central Park Tower Penthouse-217 W 57th New York St Unit Penthouse</td><td>New York, NY 10019     </td><td>Central Park Tower Penthouse-217 W 57th New York St Unit PenthouseNew York, NY 10019</td><td>United States  </td><td>New York</td><td>New York County</td><td>New York        </td><td>West 57th Street</td><td>217 W 57th St, New York, NY 10019, USA                    </td><td>40.76639</td><td>-73.98099</td></tr>\n",
       "\t<tr><td>Brokered by Sowae Corp                                                    </td><td>House for sale    </td><td>2.60e+05</td><td>4</td><td> 2.000000</td><td> 2015</td><td>620 Sinclair Ave                                                  </td><td>Staten Island, NY 10312</td><td>620 Sinclair AveStaten Island, NY 10312                                             </td><td>United States  </td><td>New York</td><td>Richmond County</td><td>Staten Island   </td><td>Sinclair Avenue </td><td>620 Sinclair Ave, Staten Island, NY 10312, USA            </td><td>40.54181</td><td>-74.19611</td></tr>\n",
       "\t<tr><td>Brokered by COMPASS                                                       </td><td>Condo for sale    </td><td>6.90e+04</td><td>3</td><td> 1.000000</td><td>  445</td><td>2 E 55th St Unit 908W33                                           </td><td>Manhattan, NY 10022    </td><td>2 E 55th St Unit 908W33Manhattan, NY 10022                                          </td><td>United States  </td><td>New York</td><td>New York County</td><td>New York        </td><td>East 55th Street</td><td>2 E 55th St, New York, NY 10022, USA                      </td><td>40.76140</td><td>-73.97461</td></tr>\n",
       "\t<tr><td>Brokered by Sotheby's International Realty - East Side Manhattan Brokerage</td><td>Townhouse for sale</td><td>5.50e+07</td><td>7</td><td> 2.373861</td><td>14175</td><td>5 E 64th St                                                       </td><td>New York, NY 10065     </td><td>5 E 64th StNew York, NY 10065                                                       </td><td>United States  </td><td>New York</td><td>New York County</td><td>New York        </td><td>East 64th Street</td><td>5 E 64th St, New York, NY 10065, USA                      </td><td>40.76722</td><td>-73.96986</td></tr>\n",
       "\t<tr><td>Brokered by Sowae Corp                                                    </td><td>House for sale    </td><td>6.90e+05</td><td>5</td><td> 2.000000</td><td> 4004</td><td>584 Park Pl                                                       </td><td>Brooklyn, NY 11238     </td><td>584 Park PlBrooklyn, NY 11238                                                       </td><td>United States  </td><td>New York</td><td>Kings County   </td><td>Brooklyn        </td><td>Park Place      </td><td>584 Park Pl, Brooklyn, NY 11238, USA                      </td><td>40.67436</td><td>-73.95872</td></tr>\n",
       "</tbody>\n",
       "</table>\n"
      ],
      "text/latex": [
       "A tibble: 6 × 17\n",
       "\\begin{tabular}{lllllllllllllllll}\n",
       " BROKERTITLE & TYPE & PRICE & BEDS & BATH & PROPERTYSQFT & ADDRESS & STATE & MAIN\\_ADDRESS & ADMINISTRATIVE\\_AREA\\_LEVEL\\_2 & LOCALITY & SUBLOCALITY & STREET\\_NAME & LONG\\_NAME & FORMATTED\\_ADDRESS & LATITUDE & LONGITUDE\\\\\n",
       " <chr> & <chr> & <dbl> & <dbl> & <dbl> & <dbl> & <chr> & <chr> & <chr> & <chr> & <chr> & <chr> & <chr> & <chr> & <chr> & <dbl> & <dbl>\\\\\n",
       "\\hline\n",
       "\t Brokered by Douglas Elliman  -111 Fifth Ave                                & Condo for sale     & 3.15e+05 & 2 &  2.000000 &  1400 & 2 E 55th St Unit 803                                               & New York, NY 10022      & 2 E 55th St Unit 803New York, NY 10022                                               & New York County & New York & Manhattan       & East 55th Street & Regis Residence  & Regis Residence, 2 E 55th St \\#803, New York, NY 10022, USA & 40.76125 & -73.97448\\\\\n",
       "\t Brokered by Serhant                                                        & Condo for sale     & 1.95e+08 & 7 & 10.000000 & 17545 & Central Park Tower Penthouse-217 W 57th New York St Unit Penthouse & New York, NY 10019      & Central Park Tower Penthouse-217 W 57th New York St Unit PenthouseNew York, NY 10019 & United States   & New York & New York County & New York         & West 57th Street & 217 W 57th St, New York, NY 10019, USA                     & 40.76639 & -73.98099\\\\\n",
       "\t Brokered by Sowae Corp                                                     & House for sale     & 2.60e+05 & 4 &  2.000000 &  2015 & 620 Sinclair Ave                                                   & Staten Island, NY 10312 & 620 Sinclair AveStaten Island, NY 10312                                              & United States   & New York & Richmond County & Staten Island    & Sinclair Avenue  & 620 Sinclair Ave, Staten Island, NY 10312, USA             & 40.54181 & -74.19611\\\\\n",
       "\t Brokered by COMPASS                                                        & Condo for sale     & 6.90e+04 & 3 &  1.000000 &   445 & 2 E 55th St Unit 908W33                                            & Manhattan, NY 10022     & 2 E 55th St Unit 908W33Manhattan, NY 10022                                           & United States   & New York & New York County & New York         & East 55th Street & 2 E 55th St, New York, NY 10022, USA                       & 40.76140 & -73.97461\\\\\n",
       "\t Brokered by Sotheby's International Realty - East Side Manhattan Brokerage & Townhouse for sale & 5.50e+07 & 7 &  2.373861 & 14175 & 5 E 64th St                                                        & New York, NY 10065      & 5 E 64th StNew York, NY 10065                                                        & United States   & New York & New York County & New York         & East 64th Street & 5 E 64th St, New York, NY 10065, USA                       & 40.76722 & -73.96986\\\\\n",
       "\t Brokered by Sowae Corp                                                     & House for sale     & 6.90e+05 & 5 &  2.000000 &  4004 & 584 Park Pl                                                        & Brooklyn, NY 11238      & 584 Park PlBrooklyn, NY 11238                                                        & United States   & New York & Kings County    & Brooklyn         & Park Place       & 584 Park Pl, Brooklyn, NY 11238, USA                       & 40.67436 & -73.95872\\\\\n",
       "\\end{tabular}\n"
      ],
      "text/markdown": [
       "\n",
       "A tibble: 6 × 17\n",
       "\n",
       "| BROKERTITLE &lt;chr&gt; | TYPE &lt;chr&gt; | PRICE &lt;dbl&gt; | BEDS &lt;dbl&gt; | BATH &lt;dbl&gt; | PROPERTYSQFT &lt;dbl&gt; | ADDRESS &lt;chr&gt; | STATE &lt;chr&gt; | MAIN_ADDRESS &lt;chr&gt; | ADMINISTRATIVE_AREA_LEVEL_2 &lt;chr&gt; | LOCALITY &lt;chr&gt; | SUBLOCALITY &lt;chr&gt; | STREET_NAME &lt;chr&gt; | LONG_NAME &lt;chr&gt; | FORMATTED_ADDRESS &lt;chr&gt; | LATITUDE &lt;dbl&gt; | LONGITUDE &lt;dbl&gt; |\n",
       "|---|---|---|---|---|---|---|---|---|---|---|---|---|---|---|---|---|\n",
       "| Brokered by Douglas Elliman  -111 Fifth Ave                                | Condo for sale     | 3.15e+05 | 2 |  2.000000 |  1400 | 2 E 55th St Unit 803                                               | New York, NY 10022      | 2 E 55th St Unit 803New York, NY 10022                                               | New York County | New York | Manhattan       | East 55th Street | Regis Residence  | Regis Residence, 2 E 55th St #803, New York, NY 10022, USA | 40.76125 | -73.97448 |\n",
       "| Brokered by Serhant                                                        | Condo for sale     | 1.95e+08 | 7 | 10.000000 | 17545 | Central Park Tower Penthouse-217 W 57th New York St Unit Penthouse | New York, NY 10019      | Central Park Tower Penthouse-217 W 57th New York St Unit PenthouseNew York, NY 10019 | United States   | New York | New York County | New York         | West 57th Street | 217 W 57th St, New York, NY 10019, USA                     | 40.76639 | -73.98099 |\n",
       "| Brokered by Sowae Corp                                                     | House for sale     | 2.60e+05 | 4 |  2.000000 |  2015 | 620 Sinclair Ave                                                   | Staten Island, NY 10312 | 620 Sinclair AveStaten Island, NY 10312                                              | United States   | New York | Richmond County | Staten Island    | Sinclair Avenue  | 620 Sinclair Ave, Staten Island, NY 10312, USA             | 40.54181 | -74.19611 |\n",
       "| Brokered by COMPASS                                                        | Condo for sale     | 6.90e+04 | 3 |  1.000000 |   445 | 2 E 55th St Unit 908W33                                            | Manhattan, NY 10022     | 2 E 55th St Unit 908W33Manhattan, NY 10022                                           | United States   | New York | New York County | New York         | East 55th Street | 2 E 55th St, New York, NY 10022, USA                       | 40.76140 | -73.97461 |\n",
       "| Brokered by Sotheby's International Realty - East Side Manhattan Brokerage | Townhouse for sale | 5.50e+07 | 7 |  2.373861 | 14175 | 5 E 64th St                                                        | New York, NY 10065      | 5 E 64th StNew York, NY 10065                                                        | United States   | New York | New York County | New York         | East 64th Street | 5 E 64th St, New York, NY 10065, USA                       | 40.76722 | -73.96986 |\n",
       "| Brokered by Sowae Corp                                                     | House for sale     | 6.90e+05 | 5 |  2.000000 |  4004 | 584 Park Pl                                                        | Brooklyn, NY 11238      | 584 Park PlBrooklyn, NY 11238                                                        | United States   | New York | Kings County    | Brooklyn         | Park Place       | 584 Park Pl, Brooklyn, NY 11238, USA                       | 40.67436 | -73.95872 |\n",
       "\n"
      ],
      "text/plain": [
       "  BROKERTITLE                                                               \n",
       "1 Brokered by Douglas Elliman  -111 Fifth Ave                               \n",
       "2 Brokered by Serhant                                                       \n",
       "3 Brokered by Sowae Corp                                                    \n",
       "4 Brokered by COMPASS                                                       \n",
       "5 Brokered by Sotheby's International Realty - East Side Manhattan Brokerage\n",
       "6 Brokered by Sowae Corp                                                    \n",
       "  TYPE               PRICE    BEDS BATH      PROPERTYSQFT\n",
       "1 Condo for sale     3.15e+05 2     2.000000  1400       \n",
       "2 Condo for sale     1.95e+08 7    10.000000 17545       \n",
       "3 House for sale     2.60e+05 4     2.000000  2015       \n",
       "4 Condo for sale     6.90e+04 3     1.000000   445       \n",
       "5 Townhouse for sale 5.50e+07 7     2.373861 14175       \n",
       "6 House for sale     6.90e+05 5     2.000000  4004       \n",
       "  ADDRESS                                                           \n",
       "1 2 E 55th St Unit 803                                              \n",
       "2 Central Park Tower Penthouse-217 W 57th New York St Unit Penthouse\n",
       "3 620 Sinclair Ave                                                  \n",
       "4 2 E 55th St Unit 908W33                                           \n",
       "5 5 E 64th St                                                       \n",
       "6 584 Park Pl                                                       \n",
       "  STATE                  \n",
       "1 New York, NY 10022     \n",
       "2 New York, NY 10019     \n",
       "3 Staten Island, NY 10312\n",
       "4 Manhattan, NY 10022    \n",
       "5 New York, NY 10065     \n",
       "6 Brooklyn, NY 11238     \n",
       "  MAIN_ADDRESS                                                                        \n",
       "1 2 E 55th St Unit 803New York, NY 10022                                              \n",
       "2 Central Park Tower Penthouse-217 W 57th New York St Unit PenthouseNew York, NY 10019\n",
       "3 620 Sinclair AveStaten Island, NY 10312                                             \n",
       "4 2 E 55th St Unit 908W33Manhattan, NY 10022                                          \n",
       "5 5 E 64th StNew York, NY 10065                                                       \n",
       "6 584 Park PlBrooklyn, NY 11238                                                       \n",
       "  ADMINISTRATIVE_AREA_LEVEL_2 LOCALITY SUBLOCALITY     STREET_NAME     \n",
       "1 New York County             New York Manhattan       East 55th Street\n",
       "2 United States               New York New York County New York        \n",
       "3 United States               New York Richmond County Staten Island   \n",
       "4 United States               New York New York County New York        \n",
       "5 United States               New York New York County New York        \n",
       "6 United States               New York Kings County    Brooklyn        \n",
       "  LONG_NAME        FORMATTED_ADDRESS                                         \n",
       "1 Regis Residence  Regis Residence, 2 E 55th St #803, New York, NY 10022, USA\n",
       "2 West 57th Street 217 W 57th St, New York, NY 10019, USA                    \n",
       "3 Sinclair Avenue  620 Sinclair Ave, Staten Island, NY 10312, USA            \n",
       "4 East 55th Street 2 E 55th St, New York, NY 10022, USA                      \n",
       "5 East 64th Street 5 E 64th St, New York, NY 10065, USA                      \n",
       "6 Park Place       584 Park Pl, Brooklyn, NY 11238, USA                      \n",
       "  LATITUDE LONGITUDE\n",
       "1 40.76125 -73.97448\n",
       "2 40.76639 -73.98099\n",
       "3 40.54181 -74.19611\n",
       "4 40.76140 -73.97461\n",
       "5 40.76722 -73.96986\n",
       "6 40.67436 -73.95872"
      ]
     },
     "metadata": {},
     "output_type": "display_data"
    }
   ],
   "source": [
    "newyork_housing <- read_csv(\"data/NY-House-Dataset.csv\")\n",
    "head(newyork_housing)"
   ]
  },
  {
   "cell_type": "code",
   "execution_count": null,
   "id": "a50d9faa-ad5b-41a8-822c-d01d7e445fef",
   "metadata": {},
   "outputs": [],
   "source": []
  }
 ],
 "metadata": {
  "kernelspec": {
   "display_name": "R",
   "language": "R",
   "name": "ir"
  },
  "language_info": {
   "codemirror_mode": "r",
   "file_extension": ".r",
   "mimetype": "text/x-r-source",
   "name": "R",
   "pygments_lexer": "r",
   "version": "4.3.1"
  }
 },
 "nbformat": 4,
 "nbformat_minor": 5
}
