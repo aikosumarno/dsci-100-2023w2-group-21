{
 "cells": [
  {
   "cell_type": "markdown",
   "id": "6871be00-95af-4a55-be23-95f040e0aa53",
   "metadata": {},
   "source": [
    "## Group Project Report\n",
    "# An Exploratory Analysis Into Diabetes\n",
    "#### Group 21: Aiko Sumarno, Yoona Wang, Jerry Jin, Daniel Chou"
   ]
  },
  {
   "cell_type": "code",
   "execution_count": null,
   "id": "798942f4-2548-48a1-a080-366a04225e76",
   "metadata": {},
   "outputs": [],
   "source": []
  }
 ],
 "metadata": {
  "kernelspec": {
   "display_name": "R",
   "language": "R",
   "name": "ir"
  },
  "language_info": {
   "codemirror_mode": "r",
   "file_extension": ".r",
   "mimetype": "text/x-r-source",
   "name": "R",
   "pygments_lexer": "r",
   "version": "4.3.1"
  }
 },
 "nbformat": 4,
 "nbformat_minor": 5
}
