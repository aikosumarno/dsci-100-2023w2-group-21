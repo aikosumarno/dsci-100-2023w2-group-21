{
 "cells": [
  {
   "cell_type": "markdown",
   "id": "6871be00-95af-4a55-be23-95f040e0aa53",
   "metadata": {},
   "source": [
    "## Group Project Report\n",
    "# An Exploratory Analysis Into Diabetes\n",
    "#### Group 21: Aiko Sumarno, Yoona Wang, Jerry Jin, Daniel Chou"
   ]
  },
  {
   "cell_type": "markdown",
   "id": "7c0cbc24-3c2e-442f-a7c1-421a07596cfe",
   "metadata": {},
   "source": [
    "## Introduction:"
   ]
  },
  {
   "cell_type": "markdown",
   "id": "97aa3b6f-74d2-4a8a-bffb-d258d80512ce",
   "metadata": {},
   "source": [
    "## Methods & Results:"
   ]
  },
  {
   "cell_type": "markdown",
   "id": "7f4b3b0a-4e1d-41d5-858d-afbf9e7891bb",
   "metadata": {},
   "source": [
    "## Discussion:"
   ]
  },
  {
   "cell_type": "markdown",
   "id": "53d43285-39ab-45b1-bbc7-3e1789ff3195",
   "metadata": {},
   "source": [
    "## References:"
   ]
  },
  {
   "cell_type": "code",
   "execution_count": null,
   "id": "73780082-a4b0-43fa-8712-139e4488fa52",
   "metadata": {},
   "outputs": [],
   "source": []
  }
 ],
 "metadata": {
  "kernelspec": {
   "display_name": "R",
   "language": "R",
   "name": "ir"
  },
  "language_info": {
   "codemirror_mode": "r",
   "file_extension": ".r",
   "mimetype": "text/x-r-source",
   "name": "R",
   "pygments_lexer": "r",
   "version": "4.3.1"
  }
 },
 "nbformat": 4,
 "nbformat_minor": 5
}
